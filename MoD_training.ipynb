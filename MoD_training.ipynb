{
 "cells": [
  {
   "cell_type": "code",
   "execution_count": 1,
   "metadata": {},
   "outputs": [],
   "source": [
    "import os\n",
    "from tqdm.notebook import tqdm\n",
    "\n",
    "os.environ['CUDA_LAUNCH_BLOCKING'] = \"1\"\n",
    "\n",
    "import torch\n",
    "import torch.nn as nn\n",
    "from torch.utils.data import DataLoader\n",
    "\n",
    "from datasets import load_dataset\n",
    "\n",
    "from fairscale.nn.model_parallel.initialize import (\n",
    "    initialize_model_parallel,\n",
    "    model_parallel_is_initialized,\n",
    ")\n",
    "from llama.tokenizer import Tokenizer\n",
    "\n",
    "from mixture_of_depths.routing_transformer import ModelArgs, MoDTransformer"
   ]
  },
  {
   "cell_type": "code",
   "execution_count": 2,
   "metadata": {},
   "outputs": [
    {
     "name": "stdout",
     "output_type": "stream",
     "text": [
      "> initializing model parallel with size 1\n",
      "> initializing ddp with size 1\n",
      "> initializing pipeline with size 1\n"
     ]
    },
    {
     "name": "stderr",
     "output_type": "stream",
     "text": [
      "c:\\Users\\Shivaen\\anaconda3\\envs\\MoD\\lib\\site-packages\\torch\\__init__.py:696: UserWarning: torch.set_default_tensor_type() is deprecated as of PyTorch 2.1, please use torch.set_default_dtype() and torch.set_default_device() as alternatives. (Triggered internally at C:\\cb\\pytorch_1000000000000\\work\\torch\\csrc\\tensor\\python_tensor.cpp:453.)\n",
      "  _C._set_default_tensor_type(t)\n"
     ]
    }
   ],
   "source": [
    "if not torch.distributed.is_initialized():\n",
    "    # torch.distributed.init_process_group(\"nccl\")\n",
    "    os.environ['MASTER_ADDR'] = 'localhost'\n",
    "    os.environ['MASTER_PORT'] = '12345'\n",
    "    torch.distributed.init_process_group(backend='gloo', rank=0, world_size=1)\n",
    "if not model_parallel_is_initialized():\n",
    "    model_parallel_size = int(os.environ.get(\"WORLD_SIZE\", 1))\n",
    "    initialize_model_parallel(model_parallel_size)\n",
    "\n",
    "local_rank = int(os.environ.get(\"LOCAL_RANK\", 0))\n",
    "torch.cuda.set_device(local_rank)\n",
    "torch.manual_seed(42)\n",
    "torch.set_default_tensor_type(torch.cuda.FloatTensor)"
   ]
  },
  {
   "cell_type": "markdown",
   "metadata": {},
   "source": [
    "## Load Data"
   ]
  },
  {
   "cell_type": "code",
   "execution_count": 3,
   "metadata": {},
   "outputs": [],
   "source": [
    "dataset = load_dataset(\n",
    "    'allenai/c4', data_files={'validation': 'en/c4-validation.00000-of-00008.json.gz'}, split='validation'\n",
    ")"
   ]
  },
  {
   "cell_type": "code",
   "execution_count": 4,
   "metadata": {},
   "outputs": [
    {
     "data": {
      "text/plain": [
       "Dataset({\n",
       "    features: ['text', 'timestamp', 'url'],\n",
       "    num_rows: 45576\n",
       "})"
      ]
     },
     "execution_count": 4,
     "metadata": {},
     "output_type": "execute_result"
    }
   ],
   "source": [
    "dataset"
   ]
  },
  {
   "cell_type": "code",
   "execution_count": 5,
   "metadata": {},
   "outputs": [],
   "source": [
    "tokenizer = Tokenizer(\"../llama/tokenizer.model\")\n",
    "def collate_fn(batch):\n",
    "    bsz = len(batch)\n",
    "    tokenized_texts = [tokenizer.encode(x['text'], bos=True, eos=True) for x in batch]\n",
    "    max_text_len = max(len(t) for t in tokenized_texts)\n",
    "\n",
    "    pad_id = tokenizer.eos_id\n",
    "    tokens = torch.full((bsz, min(2048, max_text_len)), pad_id, dtype=torch.long)\n",
    "    for k, t in enumerate(tokenized_texts):\n",
    "        tokens[k, : len(t)] = torch.tensor(t, dtype=torch.long)[:2048]\n",
    "    \n",
    "    return tokens[:,:-1], tokens[:,1:]\n",
    "\n",
    "dataloader = DataLoader(\n",
    "    dataset,\n",
    "    batch_size=4,\n",
    "    collate_fn=collate_fn,\n",
    ")"
   ]
  },
  {
   "cell_type": "code",
   "execution_count": 6,
   "metadata": {},
   "outputs": [
    {
     "data": {
      "text/plain": [
       "(tensor([[    1,   450,  6114,  ...,     2,     2,     2],\n",
       "         [    1,  4473,  6751,  ...,     2,     2,     2],\n",
       "         [    1, 26871, 17101,  ...,  4404,   331, 29889],\n",
       "         [    1,   382,  5348,  ...,     2,     2,     2]]),\n",
       " tensor([[  450,  6114,  1058,  ...,     2,     2,     2],\n",
       "         [ 4473,  6751,  1788,  ...,     2,     2,     2],\n",
       "         [26871, 17101,   379,  ...,   331, 29889,     2],\n",
       "         [  382,  5348,   399,  ...,     2,     2,     2]]))"
      ]
     },
     "execution_count": 6,
     "metadata": {},
     "output_type": "execute_result"
    }
   ],
   "source": [
    "next(iter(dataloader))"
   ]
  },
  {
   "cell_type": "markdown",
   "metadata": {},
   "source": [
    "## Train"
   ]
  },
  {
   "cell_type": "code",
   "execution_count": 7,
   "metadata": {},
   "outputs": [],
   "source": [
    "def count_parameters(model):\n",
    "    return sum(p.numel() for p in model.parameters() if p.requires_grad)"
   ]
  },
  {
   "cell_type": "code",
   "execution_count": 8,
   "metadata": {},
   "outputs": [],
   "source": [
    "class MoDLlamaTrainer():\n",
    "    def __init__(self, model, dataloader):\n",
    "        self.model = model\n",
    "        self.dataloader = dataloader\n",
    "\n",
    "    def train(\n",
    "        self,\n",
    "        epochs=10,\n",
    "        lr=1e-5,\n",
    "        model_path=\"./models/MoDLlama.pt\",\n",
    "        log_path=\"MoDLlama_log.txt\",\n",
    "        causal_loss=False,\n",
    "        log_steps=1000,\n",
    "    ):\n",
    "        min_loss = float(\"inf\")\n",
    "        criterion = nn.CrossEntropyLoss(ignore_index=tokenizer.pad_id)\n",
    "        optimizer = torch.optim.AdamW(self.model.parameters(), lr)\n",
    "        scheduler = torch.optim.lr_scheduler.CosineAnnealingLR(optimizer, epochs)\n",
    "\n",
    "        for epoch in range(epochs):\n",
    "            self.model.train()\n",
    "            running_loss = 0.0\n",
    "            for i, (inputs, targets) in enumerate(tqdm(self.dataloader, desc=f\"Epoch: {epoch}\")):\n",
    "                optimizer.zero_grad()\n",
    "\n",
    "                outputs = self.model(inputs, start_pos=0)\n",
    "\n",
    "                loss = criterion(outputs.permute(0, 2, 1), targets)\n",
    "                if causal_loss:\n",
    "                    loss += criterion()\n",
    "\n",
    "                loss.backward()\n",
    "                optimizer.step()\n",
    "                scheduler.step()\n",
    "                nn.utils.clip_grad_norm_(self.model.parameters(), 0.5)\n",
    "\n",
    "                running_loss += loss.detach().cpu().item()\n",
    "\n",
    "                if (i+1) % log_steps == 0:\n",
    "                    avg_loss = running_loss / (i+1)\n",
    "                    print(f\"Loss as step {i+1}: {avg_loss}\")\n",
    "\n",
    "            epoch_loss = running_loss / len(self.dataloader)\n",
    "            if min_loss > epoch_loss:\n",
    "                torch.save(self.model.state_dict(), model_path)\n",
    "                min_loss = epoch_loss\n",
    "            \n",
    "            print(f\"Epoch {epoch+1}/{epochs} - Loss: {epoch_loss}\")\n",
    "            with open(log_path, 'w') as f:\n",
    "                f.write(f\"Epoch {epoch+1}/{epochs} - Loss: {epoch_loss}\")\n",
    "                f.write(\"\\n\")"
   ]
  },
  {
   "cell_type": "markdown",
   "metadata": {},
   "source": [
    "With MoD"
   ]
  },
  {
   "cell_type": "code",
   "execution_count": 9,
   "metadata": {},
   "outputs": [],
   "source": [
    "model_params = ModelArgs(\n",
    "    dim=512,\n",
    "    n_layers=6,\n",
    "    n_heads=8,\n",
    "    vocab_size=tokenizer.n_words,\n",
    "    routing=True,\n",
    ")\n",
    "model = MoDTransformer(model_params)"
   ]
  },
  {
   "cell_type": "code",
   "execution_count": 10,
   "metadata": {},
   "outputs": [
    {
     "data": {
      "text/plain": [
       "53222401"
      ]
     },
     "execution_count": 10,
     "metadata": {},
     "output_type": "execute_result"
    }
   ],
   "source": [
    "count_parameters(model)"
   ]
  },
  {
   "cell_type": "code",
   "execution_count": 11,
   "metadata": {},
   "outputs": [],
   "source": [
    "trainer = MoDLlamaTrainer(model, dataloader)"
   ]
  },
  {
   "cell_type": "code",
   "execution_count": 12,
   "metadata": {},
   "outputs": [
    {
     "data": {
      "application/vnd.jupyter.widget-view+json": {
       "model_id": "9ce4d94d3cc94a16b11987ea276aeee8",
       "version_major": 2,
       "version_minor": 0
      },
      "text/plain": [
       "Epoch: 0:   0%|          | 0/11394 [00:00<?, ?it/s]"
      ]
     },
     "metadata": {},
     "output_type": "display_data"
    },
    {
     "name": "stdout",
     "output_type": "stream",
     "text": [
      "Loss as step 1000: 7.283473222732544\n",
      "Loss as step 2000: 6.11342502105236\n",
      "Loss as step 3000: 5.442867278575897\n",
      "Loss as step 4000: 5.044269517302513\n",
      "Loss as step 5000: 4.791520118331909\n",
      "Loss as step 6000: 4.601423125704129\n",
      "Loss as step 7000: 4.462108738575663\n",
      "Loss as step 8000: 4.34014173284173\n",
      "Loss as step 9000: 4.242263604534997\n",
      "Loss as step 10000: 4.16241569558382\n",
      "Loss as step 11000: 4.08866784259406\n",
      "Epoch 1/1 - Loss: 4.058898564135796\n",
      "CPU times: total: 5min 48s\n",
      "Wall time: 28min 4s\n"
     ]
    }
   ],
   "source": [
    "%%time\n",
    "trainer.train(\n",
    "    epochs=1,\n",
    ")"
   ]
  },
  {
   "cell_type": "markdown",
   "metadata": {},
   "source": [
    "Baseline"
   ]
  },
  {
   "cell_type": "code",
   "execution_count": 9,
   "metadata": {},
   "outputs": [],
   "source": [
    "model_params = ModelArgs(\n",
    "    dim=512,\n",
    "    n_layers=6,\n",
    "    n_heads=8,\n",
    "    vocab_size=tokenizer.n_words,\n",
    "    routing=False,\n",
    ")\n",
    "model = MoDTransformer(model_params)"
   ]
  },
  {
   "cell_type": "code",
   "execution_count": 10,
   "metadata": {},
   "outputs": [
    {
     "data": {
      "text/plain": [
       "53221888"
      ]
     },
     "execution_count": 10,
     "metadata": {},
     "output_type": "execute_result"
    }
   ],
   "source": [
    "count_parameters(model)"
   ]
  },
  {
   "cell_type": "code",
   "execution_count": 11,
   "metadata": {},
   "outputs": [],
   "source": [
    "trainer = MoDLlamaTrainer(model, dataloader)"
   ]
  },
  {
   "cell_type": "code",
   "execution_count": 12,
   "metadata": {},
   "outputs": [
    {
     "data": {
      "application/vnd.jupyter.widget-view+json": {
       "model_id": "e95f7568a4f644c5818edc4ab8e21d1b",
       "version_major": 2,
       "version_minor": 0
      },
      "text/plain": [
       "Epoch: 0:   0%|          | 0/11394 [00:00<?, ?it/s]"
      ]
     },
     "metadata": {},
     "output_type": "display_data"
    },
    {
     "name": "stdout",
     "output_type": "stream",
     "text": [
      "Loss as step 1000: 7.209186413764954\n",
      "Loss as step 2000: 6.076255900025368\n",
      "Loss as step 3000: 5.418029305934906\n",
      "Loss as step 4000: 5.024323759019375\n",
      "Loss as step 5000: 4.773851863384246\n",
      "Loss as step 6000: 4.5845877949992815\n",
      "Loss as step 7000: 4.4457164600746975\n",
      "Loss as step 8000: 4.323944765463471\n",
      "Loss as step 9000: 4.226143040763008\n",
      "Loss as step 10000: 4.146285073900223\n",
      "Loss as step 11000: 4.072505737889896\n",
      "Epoch 1/1 - Loss: 4.042734246672884\n",
      "CPU times: total: 4min 41s\n",
      "Wall time: 32min 33s\n"
     ]
    }
   ],
   "source": [
    "%%time\n",
    "trainer.train(\n",
    "    epochs=1,\n",
    ")"
   ]
  },
  {
   "cell_type": "code",
   "execution_count": null,
   "metadata": {},
   "outputs": [],
   "source": []
  }
 ],
 "metadata": {
  "kernelspec": {
   "display_name": "MoD",
   "language": "python",
   "name": "python3"
  },
  "language_info": {
   "codemirror_mode": {
    "name": "ipython",
    "version": 3
   },
   "file_extension": ".py",
   "mimetype": "text/x-python",
   "name": "python",
   "nbconvert_exporter": "python",
   "pygments_lexer": "ipython3",
   "version": "3.10.14"
  }
 },
 "nbformat": 4,
 "nbformat_minor": 2
}
