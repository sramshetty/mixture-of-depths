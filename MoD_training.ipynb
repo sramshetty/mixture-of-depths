{
 "cells": [
  {
   "cell_type": "code",
   "execution_count": 1,
   "metadata": {},
   "outputs": [],
   "source": [
    "import os\n",
    "from tqdm.notebook import tqdm\n",
    "\n",
    "import torch\n",
    "import torch.nn as nn\n",
    "from torch.utils.data import DataLoader\n",
    "\n",
    "from datasets import load_dataset\n",
    "\n",
    "from fairscale.nn.model_parallel.initialize import (\n",
    "    initialize_model_parallel,\n",
    "    model_parallel_is_initialized,\n",
    ")\n",
    "from llama.tokenizer import Tokenizer\n",
    "\n",
    "from mixture_of_depths.routing_transformer import ModelArgs, MoDTransformer"
   ]
  },
  {
   "cell_type": "code",
   "execution_count": 2,
   "metadata": {},
   "outputs": [
    {
     "name": "stdout",
     "output_type": "stream",
     "text": [
      "> initializing model parallel with size 1\n",
      "> initializing ddp with size 1\n",
      "> initializing pipeline with size 1\n"
     ]
    },
    {
     "name": "stderr",
     "output_type": "stream",
     "text": [
      "c:\\Users\\Shivaen\\anaconda3\\envs\\MoD\\lib\\site-packages\\torch\\__init__.py:696: UserWarning: torch.set_default_tensor_type() is deprecated as of PyTorch 2.1, please use torch.set_default_dtype() and torch.set_default_device() as alternatives. (Triggered internally at C:\\cb\\pytorch_1000000000000\\work\\torch\\csrc\\tensor\\python_tensor.cpp:453.)\n",
      "  _C._set_default_tensor_type(t)\n"
     ]
    }
   ],
   "source": [
    "if not torch.distributed.is_initialized():\n",
    "    # torch.distributed.init_process_group(\"nccl\")\n",
    "    os.environ['MASTER_ADDR'] = 'localhost'\n",
    "    os.environ['MASTER_PORT'] = '12345'\n",
    "    torch.distributed.init_process_group(backend='gloo', rank=0, world_size=1)\n",
    "if not model_parallel_is_initialized():\n",
    "    model_parallel_size = int(os.environ.get(\"WORLD_SIZE\", 1))\n",
    "    initialize_model_parallel(model_parallel_size)\n",
    "\n",
    "local_rank = int(os.environ.get(\"LOCAL_RANK\", 0))\n",
    "torch.cuda.set_device(local_rank)\n",
    "torch.manual_seed(42)\n",
    "torch.set_default_tensor_type(torch.cuda.FloatTensor)"
   ]
  },
  {
   "cell_type": "markdown",
   "metadata": {},
   "source": [
    "## Load Data"
   ]
  },
  {
   "cell_type": "code",
   "execution_count": 3,
   "metadata": {},
   "outputs": [],
   "source": [
    "dataset = load_dataset(\n",
    "    'allenai/c4', data_files={'validation': 'en/c4-validation.00000-of-00008.json.gz'}, split='validation'\n",
    ")"
   ]
  },
  {
   "cell_type": "code",
   "execution_count": 4,
   "metadata": {},
   "outputs": [
    {
     "data": {
      "text/plain": [
       "Dataset({\n",
       "    features: ['text', 'timestamp', 'url'],\n",
       "    num_rows: 45576\n",
       "})"
      ]
     },
     "execution_count": 4,
     "metadata": {},
     "output_type": "execute_result"
    }
   ],
   "source": [
    "dataset"
   ]
  },
  {
   "cell_type": "code",
   "execution_count": 5,
   "metadata": {},
   "outputs": [],
   "source": [
    "tokenizer = Tokenizer(\"../llama/tokenizer.model\")\n",
    "def collate_fn(batch):\n",
    "    bsz = len(batch)\n",
    "    tokenized_texts = [tokenizer.encode(x['text'], bos=True, eos=True) for x in batch]\n",
    "    max_text_len = max(len(t) for t in tokenized_texts)\n",
    "\n",
    "    pad_id = tokenizer.eos_id\n",
    "    tokens = torch.full((bsz, min(2048, max_text_len)), pad_id, dtype=torch.long)\n",
    "    for k, t in enumerate(tokenized_texts):\n",
    "        tokens[k, : len(t)] = torch.tensor(t, dtype=torch.long)[:2048]\n",
    "    \n",
    "    return tokens[:,:-1], tokens[:,1:]\n",
    "\n",
    "dataloader = DataLoader(\n",
    "    dataset,\n",
    "    batch_size=4,\n",
    "    collate_fn=collate_fn,\n",
    ")"
   ]
  },
  {
   "cell_type": "code",
   "execution_count": 6,
   "metadata": {},
   "outputs": [
    {
     "data": {
      "text/plain": [
       "(tensor([[    1,   450,  6114,  ...,     2,     2,     2],\n",
       "         [    1,  4473,  6751,  ...,     2,     2,     2],\n",
       "         [    1, 26871, 17101,  ...,  4404,   331, 29889],\n",
       "         [    1,   382,  5348,  ...,     2,     2,     2]]),\n",
       " tensor([[  450,  6114,  1058,  ...,     2,     2,     2],\n",
       "         [ 4473,  6751,  1788,  ...,     2,     2,     2],\n",
       "         [26871, 17101,   379,  ...,   331, 29889,     2],\n",
       "         [  382,  5348,   399,  ...,     2,     2,     2]]))"
      ]
     },
     "execution_count": 6,
     "metadata": {},
     "output_type": "execute_result"
    }
   ],
   "source": [
    "next(iter(dataloader))"
   ]
  },
  {
   "cell_type": "markdown",
   "metadata": {},
   "source": [
    "## Train"
   ]
  },
  {
   "cell_type": "code",
   "execution_count": 7,
   "metadata": {},
   "outputs": [],
   "source": [
    "def count_parameters(model):\n",
    "    return sum(p.numel() for p in model.parameters() if p.requires_grad)"
   ]
  },
  {
   "cell_type": "code",
   "execution_count": 8,
   "metadata": {},
   "outputs": [],
   "source": [
    "class MoDLlamaTrainer():\n",
    "    def __init__(self, params, model, dataloader):\n",
    "        self.params = params\n",
    "        self.model = model\n",
    "        self.dataloader = dataloader\n",
    "\n",
    "    def train(\n",
    "        self,\n",
    "        epochs=10,\n",
    "        lr=1e-5,\n",
    "        model_path=\"./models/MoDLlama.pt\",\n",
    "        log_path=\"./logs/MoDLlama_log.txt\",\n",
    "        use_aux_loss=False,\n",
    "        use_aux_predictor=False,\n",
    "        log_steps=1000,\n",
    "    ):  \n",
    "        self.model.train()\n",
    "\n",
    "        min_loss = float(\"inf\")\n",
    "        criterion = nn.CrossEntropyLoss(ignore_index=tokenizer.pad_id)\n",
    "        bce_criterion = nn.BCEWithLogitsLoss()\n",
    "        \n",
    "        if use_aux_predictor:\n",
    "            parameters = []\n",
    "            aux_parameters = []\n",
    "            for name, param in self.model.named_parameters():\n",
    "                if name.startswith(\"aux_router\"):\n",
    "                    aux_parameters.append(param)\n",
    "                else:\n",
    "                    parameters.append(param)\n",
    "            optimizer = torch.optim.AdamW(parameters, lr)\n",
    "            aux_optimizer = torch.optim.AdamW(aux_parameters, 1e-3)\n",
    "        else:\n",
    "            optimizer = torch.optim.AdamW(self.model.parameters(), lr)\n",
    "        optimizer = torch.optim.AdamW(self.model.parameters(), lr)\n",
    "        scheduler = torch.optim.lr_scheduler.CosineAnnealingLR(optimizer, epochs*len(dataloader))\n",
    "\n",
    "        for epoch in range(epochs):\n",
    "            running_loss = 0.0\n",
    "            running_causal_loss = 0.0\n",
    "\n",
    "            correct = 0\n",
    "            total = 0\n",
    "            for i, (inputs, targets) in enumerate(tqdm(self.dataloader, desc=f\"Epoch: {epoch}\")):\n",
    "                optimizer.zero_grad()\n",
    "\n",
    "                outputs = self.model(inputs, start_pos=0)\n",
    "\n",
    "                loss = criterion(outputs['output'].permute(0, 2, 1), targets)\n",
    "\n",
    "                causal_loss = 0.0\n",
    "                if use_aux_loss or use_aux_predictor:\n",
    "                    # compute auxiliary loss\n",
    "                    weights = outputs['aux_weights'] if use_aux_predictor else outputs['token_weights']\n",
    "                    token_weights = torch.stack(weights).flatten(0,1)\n",
    "                    aux_targets = torch.zeros_like(token_weights)\n",
    "                    batches = torch.arange(token_weights.size(0)).unsqueeze(-1)\n",
    "                    aux_targets[batches, torch.stack(outputs['topk_indices']).flatten(0,1)] = 1.0\n",
    "                    aux_targets = aux_targets.flatten()\n",
    "                    causal_loss = bce_criterion(token_weights.flatten().to(\"cuda\"), aux_targets.to(\"cuda\"))\n",
    "                    running_causal_loss += causal_loss.detach().cpu().item()\n",
    "                    \n",
    "                    if use_aux_predictor:\n",
    "                        # measure accuracy during training\n",
    "                        k = min(token_weights.size(-1), self.params.capacity)\n",
    "                        pred_indices = torch.topk(token_weights, k=k, sorted=False).indices\n",
    "                        preds = torch.zeros_like(token_weights)\n",
    "                        preds[batches, pred_indices] = 1.0\n",
    "                        correct += (preds.flatten() == aux_targets).sum()  \n",
    "                        total += len(aux_targets)\n",
    "\n",
    "                loss += causal_loss\n",
    "                loss.backward()\n",
    "                optimizer.step()\n",
    "                scheduler.step()\n",
    "                nn.utils.clip_grad_norm_(self.model.parameters(), 0.5)\n",
    "\n",
    "                if use_aux_predictor:\n",
    "                    aux_optimizer.step()\n",
    "\n",
    "                running_loss += loss.detach().cpu().item()\n",
    "\n",
    "                if (i+1) % log_steps == 0:\n",
    "                    avg_loss = running_loss / (i+1)\n",
    "                    print(f\"Loss at step {i+1}: {avg_loss}\")\n",
    "                    if use_aux_loss:\n",
    "                        avg_causal_loss = running_causal_loss / (i+1)\n",
    "                        print(f\"Causal Loss at step {i+1}: {avg_causal_loss}\")\n",
    "                    if use_aux_predictor:\n",
    "                        accuracy = correct / total\n",
    "                        correct, total = 0, 0\n",
    "                        print(f\"Token Predictor Accuracy at step {i+1}: {accuracy}\")\n",
    "\n",
    "            epoch_loss = running_loss / len(self.dataloader)\n",
    "            if min_loss > epoch_loss:\n",
    "                torch.save(self.model.state_dict(), model_path)\n",
    "                min_loss = epoch_loss\n",
    "            \n",
    "            print(f\"Epoch {epoch+1}/{epochs} - Loss: {epoch_loss}\")\n",
    "            with open(log_path, 'w') as f:\n",
    "                f.write(f\"Epoch {epoch+1}/{epochs} - Loss: {epoch_loss}\")\n",
    "                f.write(\"\\n\")"
   ]
  },
  {
   "cell_type": "markdown",
   "metadata": {},
   "source": [
    "### With MoD and Auxiliary Loss"
   ]
  },
  {
   "cell_type": "code",
   "execution_count": 9,
   "metadata": {},
   "outputs": [],
   "source": [
    "model_params = ModelArgs(\n",
    "    dim=512,\n",
    "    n_layers=6,\n",
    "    n_heads=8,\n",
    "    vocab_size=tokenizer.n_words,\n",
    "    routing=True,\n",
    "    aux_loss=True\n",
    ")\n",
    "model = MoDTransformer(model_params)"
   ]
  },
  {
   "cell_type": "code",
   "execution_count": 10,
   "metadata": {},
   "outputs": [
    {
     "data": {
      "text/plain": [
       "53222400"
      ]
     },
     "execution_count": 10,
     "metadata": {},
     "output_type": "execute_result"
    }
   ],
   "source": [
    "count_parameters(model)"
   ]
  },
  {
   "cell_type": "code",
   "execution_count": 12,
   "metadata": {},
   "outputs": [],
   "source": [
    "trainer = MoDLlamaTrainer(model_params, model, dataloader)"
   ]
  },
  {
   "cell_type": "code",
   "execution_count": 13,
   "metadata": {},
   "outputs": [
    {
     "data": {
      "application/vnd.jupyter.widget-view+json": {
       "model_id": "e6326bb7bb6340d8a5b03ba30ce4e18f",
       "version_major": 2,
       "version_minor": 0
      },
      "text/plain": [
       "Epoch: 0:   0%|          | 0/11394 [00:00<?, ?it/s]"
      ]
     },
     "metadata": {},
     "output_type": "display_data"
    },
    {
     "name": "stdout",
     "output_type": "stream",
     "text": [
      "Loss at step 1000: 6.328129431724548\n",
      "Causal Loss at step 1000: 0.14201861082948744\n",
      "Loss at step 2000: 5.206919669151306\n",
      "Causal Loss at step 2000: 0.09980903305439279\n",
      "Loss at step 3000: 4.755034089326858\n",
      "Causal Loss at step 3000: 0.08180954160541296\n",
      "Loss at step 4000: 4.48384180355072\n",
      "Causal Loss at step 4000: 0.06814707864960655\n",
      "Loss at step 5000: 4.307397578907013\n",
      "Causal Loss at step 5000: 0.058223096687858925\n",
      "Loss at step 6000: 4.171844494640827\n",
      "Causal Loss at step 6000: 0.05103358306797842\n",
      "Loss at step 7000: 4.0757166142123085\n",
      "Causal Loss at step 7000: 0.0456944351373573\n",
      "Loss at step 8000: 3.9912534810900686\n",
      "Causal Loss at step 8000: 0.041461185942491284\n",
      "Loss at step 9000: 3.927055069035954\n",
      "Causal Loss at step 9000: 0.038154133067246424\n",
      "Loss at step 10000: 3.8782797238588333\n",
      "Causal Loss at step 10000: 0.035498045698471835\n",
      "Loss at step 11000: 3.8336125680641695\n",
      "Causal Loss at step 11000: 0.033279732182219794\n",
      "Epoch 1/1 - Loss: 3.8147398159548715\n",
      "CPU times: total: 2min 53s\n",
      "Wall time: 23min 18s\n"
     ]
    }
   ],
   "source": [
    "%%time\n",
    "trainer.train(\n",
    "    epochs=1,\n",
    "    use_aux_loss=model_params.aux_loss,\n",
    "    use_aux_predictor=model.params.aux_routing\n",
    ")"
   ]
  },
  {
   "cell_type": "markdown",
   "metadata": {},
   "source": [
    "### With MoD and Auxiliary Router"
   ]
  },
  {
   "cell_type": "code",
   "execution_count": 9,
   "metadata": {},
   "outputs": [
    {
     "data": {
      "text/plain": [
       "53353728"
      ]
     },
     "execution_count": 9,
     "metadata": {},
     "output_type": "execute_result"
    }
   ],
   "source": [
    "model_params = ModelArgs(\n",
    "    dim=512,\n",
    "    n_layers=6,\n",
    "    n_heads=8,\n",
    "    vocab_size=tokenizer.n_words,\n",
    "    routing=True,\n",
    "    aux_routing=True\n",
    ")\n",
    "model = MoDTransformer(model_params)\n",
    "count_parameters(model)"
   ]
  },
  {
   "cell_type": "code",
   "execution_count": 10,
   "metadata": {},
   "outputs": [],
   "source": [
    "trainer = MoDLlamaTrainer(model_params, model, dataloader)"
   ]
  },
  {
   "cell_type": "code",
   "execution_count": 11,
   "metadata": {},
   "outputs": [
    {
     "data": {
      "application/vnd.jupyter.widget-view+json": {
       "model_id": "ba0e7f2c27b54fd295e0b50da78b22c7",
       "version_major": 2,
       "version_minor": 0
      },
      "text/plain": [
       "Epoch: 0:   0%|          | 0/11394 [00:00<?, ?it/s]"
      ]
     },
     "metadata": {},
     "output_type": "display_data"
    },
    {
     "name": "stdout",
     "output_type": "stream",
     "text": [
      "Loss at step 1000: 6.632888051509857\n",
      "Token Predictor Accuracy at step 1000: 0.831622838973999\n",
      "Loss at step 2000: 5.561314790248871\n",
      "Token Predictor Accuracy at step 2000: 0.8503028154373169\n",
      "Loss at step 3000: 5.114324019749959\n",
      "Token Predictor Accuracy at step 3000: 0.8806051015853882\n",
      "Loss at step 4000: 4.840769713997841\n",
      "Token Predictor Accuracy at step 4000: 0.8832852840423584\n",
      "Loss at step 5000: 4.664250442028045\n",
      "Token Predictor Accuracy at step 5000: 0.8767071962356567\n",
      "Loss at step 6000: 4.533340272188187\n",
      "Token Predictor Accuracy at step 6000: 0.8746333718299866\n",
      "Loss at step 7000: 4.441962276424681\n",
      "Token Predictor Accuracy at step 7000: 0.8692646622657776\n",
      "Loss at step 8000: 4.360247699260712\n",
      "Token Predictor Accuracy at step 8000: 0.8706242442131042\n",
      "Loss at step 9000: 4.298070017523235\n",
      "Token Predictor Accuracy at step 9000: 0.8725472092628479\n",
      "Loss at step 10000: 4.25081290872097\n",
      "Token Predictor Accuracy at step 10000: 0.8689330816268921\n",
      "Loss at step 11000: 4.206770216616717\n",
      "Token Predictor Accuracy at step 11000: 0.8727321624755859\n",
      "Epoch 1/1 - Loss: 4.18800858633548\n",
      "CPU times: total: 4min 11s\n",
      "Wall time: 24min 52s\n"
     ]
    }
   ],
   "source": [
    "%%time\n",
    "trainer.train(\n",
    "    epochs=1,\n",
    "    model_path=\"./models/MoDLlama_predictor.pt\",\n",
    "    log_path=\"./logs/MoDLlama_predictor_log.txt\",\n",
    "    use_aux_loss=model_params.aux_loss,\n",
    "    use_aux_predictor=model.params.aux_routing\n",
    ")"
   ]
  },
  {
   "cell_type": "markdown",
   "metadata": {},
   "source": [
    "### Baseline"
   ]
  },
  {
   "cell_type": "code",
   "execution_count": 9,
   "metadata": {},
   "outputs": [
    {
     "data": {
      "text/plain": [
       "53221888"
      ]
     },
     "execution_count": 9,
     "metadata": {},
     "output_type": "execute_result"
    }
   ],
   "source": [
    "model_params = ModelArgs(\n",
    "    dim=512,\n",
    "    n_layers=6,\n",
    "    n_heads=8,\n",
    "    vocab_size=tokenizer.n_words,\n",
    "    routing=False,\n",
    ")\n",
    "model = MoDTransformer(model_params)\n",
    "count_parameters(model)"
   ]
  },
  {
   "cell_type": "code",
   "execution_count": 10,
   "metadata": {},
   "outputs": [],
   "source": [
    "trainer = MoDLlamaTrainer(model_params, model, dataloader)"
   ]
  },
  {
   "cell_type": "code",
   "execution_count": 11,
   "metadata": {},
   "outputs": [
    {
     "data": {
      "application/vnd.jupyter.widget-view+json": {
       "model_id": "ebb82385767c41978bfdf567ae66d456",
       "version_major": 2,
       "version_minor": 0
      },
      "text/plain": [
       "Epoch: 0:   0%|          | 0/11394 [00:00<?, ?it/s]"
      ]
     },
     "metadata": {},
     "output_type": "display_data"
    },
    {
     "name": "stdout",
     "output_type": "stream",
     "text": [
      "Loss at step 1000: 6.059305932760239\n",
      "Loss at step 2000: 5.038956387758255\n",
      "Loss at step 3000: 4.623529662529627\n",
      "Loss at step 4000: 4.368253807425499\n",
      "Loss at step 5000: 4.2002917053222655\n",
      "Loss at step 6000: 4.071478405634562\n",
      "Loss at step 7000: 3.981069858942713\n",
      "Loss at step 8000: 3.9011246553510426\n",
      "Loss at step 9000: 3.8405606058438617\n",
      "Loss at step 10000: 3.794752025604248\n",
      "Loss at step 11000: 3.7525986541726373\n",
      "Epoch 1/1 - Loss: 3.734649644832099\n",
      "CPU times: total: 4min 11s\n",
      "Wall time: 27min 59s\n"
     ]
    }
   ],
   "source": [
    "%%time\n",
    "trainer.train(\n",
    "    epochs=1,\n",
    "    model_path=\"./models/BaselineLlama.pt\",\n",
    "    log_path=\"./logs/BaselineLlama_log.txt\",\n",
    ")"
   ]
  },
  {
   "cell_type": "code",
   "execution_count": null,
   "metadata": {},
   "outputs": [],
   "source": []
  }
 ],
 "metadata": {
  "kernelspec": {
   "display_name": "MoD",
   "language": "python",
   "name": "python3"
  },
  "language_info": {
   "codemirror_mode": {
    "name": "ipython",
    "version": 3
   },
   "file_extension": ".py",
   "mimetype": "text/x-python",
   "name": "python",
   "nbconvert_exporter": "python",
   "pygments_lexer": "ipython3",
   "version": "3.10.14"
  }
 },
 "nbformat": 4,
 "nbformat_minor": 2
}
