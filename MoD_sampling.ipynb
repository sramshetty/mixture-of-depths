{
 "cells": [
  {
   "cell_type": "code",
   "execution_count": 1,
   "metadata": {},
   "outputs": [],
   "source": [
    "from mixture_of_depths.generation import MoDLlama"
   ]
  },
  {
   "cell_type": "markdown",
   "metadata": {},
   "source": [
    "### Generate"
   ]
  },
  {
   "cell_type": "markdown",
   "metadata": {},
   "source": [
    "Baseline"
   ]
  },
  {
   "cell_type": "code",
   "execution_count": 2,
   "metadata": {},
   "outputs": [
    {
     "name": "stdout",
     "output_type": "stream",
     "text": [
      "> initializing model parallel with size 1\n",
      "> initializing ddp with size 1\n",
      "> initializing pipeline with size 1\n",
      "Loaded in 0.22 seconds\n"
     ]
    },
    {
     "name": "stderr",
     "output_type": "stream",
     "text": [
      "c:\\Users\\Shivaen\\anaconda3\\envs\\MoD\\lib\\site-packages\\torch\\__init__.py:696: UserWarning: torch.set_default_tensor_type() is deprecated as of PyTorch 2.1, please use torch.set_default_dtype() and torch.set_default_device() as alternatives. (Triggered internally at C:\\cb\\pytorch_1000000000000\\work\\torch\\csrc\\tensor\\python_tensor.cpp:453.)\n",
      "  _C._set_default_tensor_type(t)\n"
     ]
    }
   ],
   "source": [
    "generator = MoDLlama.build(\n",
    "    ckpt_dir=\"./models/BaselineLlama/\",\n",
    "    tokenizer_path=\"../llama/tokenizer.model\",\n",
    "    max_seq_len=2048,\n",
    "    max_batch_size=1,\n",
    ")"
   ]
  },
  {
   "cell_type": "code",
   "execution_count": 3,
   "metadata": {},
   "outputs": [
    {
     "name": "stdout",
     "output_type": "stream",
     "text": [
      "CPU times: total: 703 ms\n",
      "Wall time: 1.93 s\n"
     ]
    },
    {
     "data": {
      "text/plain": [
       "[{'generation': ', there was a little girl named Lily. She loved to play with her toys and play with her toys. They went to the park with her mom and dad.\\n\\nOne day, Lily\\'s mom asked her to see a big, so she said it was a big dog. Lily was so excited to play with her toys. She wanted to have a nice truck on the room.\\n\\nLily was happy and said, \"That\\'s a new toy, Lily. It\\'s a special place to be more. We have to take a toy and Lily to take a toy toys with her toys. They played together with the toy and her mom, \"We are a good friend, Mommy. You are a good friend.\"\\n\\nLily was happy to have a toy and ate the toys in the store. She knew that she was the toy and was so happy. She said, \"Sure, we can be a good friend. I want to find a special toy.\"\\n\\nLily and her mom played together and saw the toy bird. They had a toy. They were so happy and happy. They both felt better. They both played with the toy and made a big hug.'}]"
      ]
     },
     "execution_count": 3,
     "metadata": {},
     "output_type": "execute_result"
    }
   ],
   "source": [
    "%%time\n",
    "generator.text_completion(\n",
    "    [\n",
    "        \"On a sunny day\",\n",
    "    ]\n",
    ")"
   ]
  },
  {
   "cell_type": "markdown",
   "metadata": {},
   "source": [
    "Auxiliary Loss"
   ]
  },
  {
   "cell_type": "code",
   "execution_count": 2,
   "metadata": {},
   "outputs": [
    {
     "name": "stdout",
     "output_type": "stream",
     "text": [
      "> initializing model parallel with size 1\n",
      "> initializing ddp with size 1\n",
      "> initializing pipeline with size 1\n",
      "Loaded in 0.23 seconds\n"
     ]
    },
    {
     "name": "stderr",
     "output_type": "stream",
     "text": [
      "c:\\Users\\Shivaen\\anaconda3\\envs\\MoD\\lib\\site-packages\\torch\\__init__.py:696: UserWarning: torch.set_default_tensor_type() is deprecated as of PyTorch 2.1, please use torch.set_default_dtype() and torch.set_default_device() as alternatives. (Triggered internally at C:\\cb\\pytorch_1000000000000\\work\\torch\\csrc\\tensor\\python_tensor.cpp:453.)\n",
      "  _C._set_default_tensor_type(t)\n"
     ]
    }
   ],
   "source": [
    "generator = MoDLlama.build(\n",
    "    ckpt_dir=\"./models/MoDLlama/\",\n",
    "    tokenizer_path=\"../llama/tokenizer.model\",\n",
    "    max_seq_len=2048,\n",
    "    max_batch_size=1,\n",
    ")"
   ]
  },
  {
   "cell_type": "code",
   "execution_count": 5,
   "metadata": {},
   "outputs": [
    {
     "name": "stdout",
     "output_type": "stream",
     "text": [
      "CPU times: total: 234 ms\n",
      "Wall time: 1.76 s\n"
     ]
    },
    {
     "data": {
      "text/plain": [
       "[{'generation': ', a little girl named Lily were playing in the park. She was so excited to have a new thing. She wanted to play with her friends.\\n\\nLily\\'s mom said, \"Mommy, mommy! Let\\'s play with the toys, but Lily asked her mommy for a toy to go. Lily felt sad and said, \"I\\'m sorry, Lily. I\\'m sorry. I\\'m sorry, Lily. It\\'s mommy.\\n\\nLily was happy and thanked her mommy. She thought that she had a very kind and hugged her mommy. She was happy and said, \"It\\'s a great idea. It\\'s a great day. It\\'s not good. You are very bad.\" Lily said, \"I\\'m sorry, Lily. Can I have to stay on the floor. They were so happy. And that\\'s mommy\\'s mommy\\'s mommy, and Timmy. From that day on, Lily had been there and had fun together.'}]"
      ]
     },
     "execution_count": 5,
     "metadata": {},
     "output_type": "execute_result"
    }
   ],
   "source": [
    "%%time\n",
    "generator.text_completion(\n",
    "    [\n",
    "        \"On a sunny day\",\n",
    "    ]\n",
    ")"
   ]
  },
  {
   "cell_type": "markdown",
   "metadata": {},
   "source": [
    "Auxiliary Router (currently doesn't seem that great)"
   ]
  },
  {
   "cell_type": "code",
   "execution_count": 2,
   "metadata": {},
   "outputs": [
    {
     "name": "stdout",
     "output_type": "stream",
     "text": [
      "> initializing model parallel with size 1\n",
      "> initializing ddp with size 1\n",
      "> initializing pipeline with size 1\n",
      "Loaded in 0.23 seconds\n"
     ]
    },
    {
     "name": "stderr",
     "output_type": "stream",
     "text": [
      "c:\\Users\\Shivaen\\anaconda3\\envs\\MoD\\lib\\site-packages\\torch\\__init__.py:696: UserWarning: torch.set_default_tensor_type() is deprecated as of PyTorch 2.1, please use torch.set_default_dtype() and torch.set_default_device() as alternatives. (Triggered internally at C:\\cb\\pytorch_1000000000000\\work\\torch\\csrc\\tensor\\python_tensor.cpp:453.)\n",
      "  _C._set_default_tensor_type(t)\n"
     ]
    }
   ],
   "source": [
    "generator = MoDLlama.build(\n",
    "    ckpt_dir=\"./models/MoDLlama_predictor/\",\n",
    "    tokenizer_path=\"../llama/tokenizer.model\",\n",
    "    max_seq_len=2048,\n",
    "    max_batch_size=1,\n",
    ")"
   ]
  },
  {
   "cell_type": "code",
   "execution_count": 6,
   "metadata": {},
   "outputs": [
    {
     "name": "stdout",
     "output_type": "stream",
     "text": [
      "CPU times: total: 234 ms\n",
      "Wall time: 571 ms\n"
     ]
    },
    {
     "data": {
      "text/plain": [
       "[{'generation': \", a little girl called the park. She was a toy. The boy was a big, and pretend the sun andday, and someone g Her torivial the waved the cake the other, and never didn't the to sides the repper toace the, but the big fic and capture the kitchen.\"}]"
      ]
     },
     "execution_count": 6,
     "metadata": {},
     "output_type": "execute_result"
    }
   ],
   "source": [
    "%%time\n",
    "generator.text_completion(\n",
    "    [\n",
    "        \"On a sunny day\",\n",
    "    ]\n",
    ")"
   ]
  },
  {
   "cell_type": "code",
   "execution_count": null,
   "metadata": {},
   "outputs": [],
   "source": []
  }
 ],
 "metadata": {
  "kernelspec": {
   "display_name": "MoD",
   "language": "python",
   "name": "python3"
  },
  "language_info": {
   "codemirror_mode": {
    "name": "ipython",
    "version": 3
   },
   "file_extension": ".py",
   "mimetype": "text/x-python",
   "name": "python",
   "nbconvert_exporter": "python",
   "pygments_lexer": "ipython3",
   "version": "3.10.14"
  }
 },
 "nbformat": 4,
 "nbformat_minor": 2
}
